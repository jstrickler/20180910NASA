{
 "cells": [
  {
   "cell_type": "markdown",
   "metadata": {},
   "source": [
    "# Reading HDF5 compound fields into Pandas"
   ]
  },
  {
   "cell_type": "code",
   "execution_count": 88,
   "metadata": {
    "collapsed": true
   },
   "outputs": [],
   "source": [
    "import h5py\n",
    "import numpy as np\n",
    "import pandas as pd\n",
    "%matplotlib inline"
   ]
  },
  {
   "cell_type": "code",
   "execution_count": 89,
   "metadata": {
    "collapsed": true
   },
   "outputs": [],
   "source": [
    "FILENAME = \"../sol_101_op2.h5\"\n",
    "KEY = \"NASTRAN/INPUT/ELEMENT/CBUSH\""
   ]
  },
  {
   "cell_type": "code",
   "execution_count": 90,
   "metadata": {},
   "outputs": [
    {
     "data": {
      "text/plain": [
       "<HDF5 dataset \"CBUSH\": shape (10,), type \"|V128\">"
      ]
     },
     "execution_count": 90,
     "metadata": {},
     "output_type": "execute_result"
    }
   ],
   "source": [
    "    h5file = h5py.File(FILENAME)\n",
    "\n",
    "    dataset = h5file[KEY]\n",
    "    dataset"
   ]
  },
  {
   "cell_type": "code",
   "execution_count": 91,
   "metadata": {},
   "outputs": [
    {
     "name": "stdout",
     "output_type": "stream",
     "text": [
      "<HDF5 dataset \"CBUSH\": shape (10,), type \"|V128\">\n",
      "(1, 1, 1, 2, 2,  0.,  0.,  0., 12, -1,  0.5, -1,  0.,  0.,  0., 1)\n",
      "(2, 1, 2, 3, 2,  0.,  0.,  0., 12, -1,  0.5, -1,  0.,  0.,  0., 1)\n",
      "(3, 1, 3, 4, 2,  0.,  0.,  0., 12, -1,  0.5, -1,  0.,  0.,  0., 1)\n",
      "[(1, 1, 1, 2, 2,  0.,  0.,  0., 12, -1,  0.5, -1,  0.,  0.,  0., 1), (2, 1, 2, 3, 2,  0.,  0.,  0., 12, -1,  0.5, -1,  0.,  0.,  0., 1), (3, 1, 3, 4, 2,  0.,  0.,  0., 12, -1,  0.5, -1,  0.,  0.,  0., 1), (4, 1, 4, 5, 2,  0.,  0.,  0., 12, -1,  0.5, -1,  0.,  0.,  0., 1), (5, 1, 5, 6, 2,  0.,  0.,  0., 12, -1,  0.5, -1,  0.,  0.,  0., 1), (6, 1, 6, 7, 2,  0.,  0.,  0., 12, -1,  0.5, -1,  0.,  0.,  0., 1), (7, 1, 7, 8, 2,  0.,  0.,  0., 12, -1,  0.5, -1,  0.,  0.,  0., 1), (8, 1, 8, 9, 2,  0.,  0.,  0., 12, -1,  0.5, -1,  0.,  0.,  0., 1), (9, 1, 9, 10, 2,  0.,  0.,  0., 12, -1,  0.5, -1,  0.,  0.,  0., 1), (10, 1, 10, 11, 2,  0.,  0.,  0., 12, -1,  0.5, -1,  0.,  0.,  0., 1)]\n",
      "\n",
      "[[1, 1, 1, 2, 2, 0.0, 0.0, 0.0, 12, -1, 0.5, -1, 0.0, 0.0, 0.0, 1], [2, 1, 2, 3, 2, 0.0, 0.0, 0.0, 12, -1, 0.5, -1, 0.0, 0.0, 0.0, 1], [3, 1, 3, 4, 2, 0.0, 0.0, 0.0, 12, -1, 0.5, -1, 0.0, 0.0, 0.0, 1], [4, 1, 4, 5, 2, 0.0, 0.0, 0.0, 12, -1, 0.5, -1, 0.0, 0.0, 0.0, 1], [5, 1, 5, 6, 2, 0.0, 0.0, 0.0, 12, -1, 0.5, -1, 0.0, 0.0, 0.0, 1], [6, 1, 6, 7, 2, 0.0, 0.0, 0.0, 12, -1, 0.5, -1, 0.0, 0.0, 0.0, 1], [7, 1, 7, 8, 2, 0.0, 0.0, 0.0, 12, -1, 0.5, -1, 0.0, 0.0, 0.0, 1], [8, 1, 8, 9, 2, 0.0, 0.0, 0.0, 12, -1, 0.5, -1, 0.0, 0.0, 0.0, 1], [9, 1, 9, 10, 2, 0.0, 0.0, 0.0, 12, -1, 0.5, -1, 0.0, 0.0, 0.0, 1], [10, 1, 10, 11, 2, 0.0, 0.0, 0.0, 12, -1, 0.5, -1, 0.0, 0.0, 0.0, 1]]\n"
     ]
    }
   ],
   "source": [
    "print(dataset)\n",
    "print(dataset[0])\n",
    "print(dataset[1])\n",
    "print(dataset[2])\n",
    "print(list(dataset))\n",
    "print()\n",
    "print([list(x) for x in dataset])"
   ]
  },
  {
   "cell_type": "code",
   "execution_count": 92,
   "metadata": {},
   "outputs": [
    {
     "data": {
      "text/plain": [
       "dtype([('EID', '<i8'), ('PID', '<i8'), ('GA', '<i8'), ('GB', '<i8'), ('FLAG', '<i8'), ('X1', '<f8'), ('X2', '<f8'), ('X3', '<f8'), ('GO', '<i8'), ('CID', '<i8'), ('S', '<f8'), ('OCID', '<i8'), ('S1', '<f8'), ('S2', '<f8'), ('S3', '<f8'), ('DOMAIN_ID', '<i8')])"
      ]
     },
     "execution_count": 92,
     "metadata": {},
     "output_type": "execute_result"
    }
   ],
   "source": [
    "   dataset.dtype"
   ]
  },
  {
   "cell_type": "code",
   "execution_count": 93,
   "metadata": {},
   "outputs": [
    {
     "data": {
      "text/html": [
       "<div>\n",
       "<style>\n",
       "    .dataframe thead tr:only-child th {\n",
       "        text-align: right;\n",
       "    }\n",
       "\n",
       "    .dataframe thead th {\n",
       "        text-align: left;\n",
       "    }\n",
       "\n",
       "    .dataframe tbody tr th {\n",
       "        vertical-align: top;\n",
       "    }\n",
       "</style>\n",
       "<table border=\"1\" class=\"dataframe\">\n",
       "  <thead>\n",
       "    <tr style=\"text-align: right;\">\n",
       "      <th></th>\n",
       "      <th>EID</th>\n",
       "      <th>PID</th>\n",
       "      <th>GA</th>\n",
       "      <th>GB</th>\n",
       "      <th>FLAG</th>\n",
       "      <th>X1</th>\n",
       "      <th>X2</th>\n",
       "      <th>X3</th>\n",
       "      <th>GO</th>\n",
       "      <th>CID</th>\n",
       "      <th>S</th>\n",
       "      <th>OCID</th>\n",
       "      <th>S1</th>\n",
       "      <th>S2</th>\n",
       "      <th>S3</th>\n",
       "      <th>DOMAIN_ID</th>\n",
       "    </tr>\n",
       "  </thead>\n",
       "  <tbody>\n",
       "    <tr>\n",
       "      <th>0</th>\n",
       "      <td>1</td>\n",
       "      <td>1</td>\n",
       "      <td>1</td>\n",
       "      <td>2</td>\n",
       "      <td>2</td>\n",
       "      <td>0.0</td>\n",
       "      <td>0.0</td>\n",
       "      <td>0.0</td>\n",
       "      <td>12</td>\n",
       "      <td>-1</td>\n",
       "      <td>0.5</td>\n",
       "      <td>-1</td>\n",
       "      <td>0.0</td>\n",
       "      <td>0.0</td>\n",
       "      <td>0.0</td>\n",
       "      <td>1</td>\n",
       "    </tr>\n",
       "    <tr>\n",
       "      <th>1</th>\n",
       "      <td>2</td>\n",
       "      <td>1</td>\n",
       "      <td>2</td>\n",
       "      <td>3</td>\n",
       "      <td>2</td>\n",
       "      <td>0.0</td>\n",
       "      <td>0.0</td>\n",
       "      <td>0.0</td>\n",
       "      <td>12</td>\n",
       "      <td>-1</td>\n",
       "      <td>0.5</td>\n",
       "      <td>-1</td>\n",
       "      <td>0.0</td>\n",
       "      <td>0.0</td>\n",
       "      <td>0.0</td>\n",
       "      <td>1</td>\n",
       "    </tr>\n",
       "    <tr>\n",
       "      <th>2</th>\n",
       "      <td>3</td>\n",
       "      <td>1</td>\n",
       "      <td>3</td>\n",
       "      <td>4</td>\n",
       "      <td>2</td>\n",
       "      <td>0.0</td>\n",
       "      <td>0.0</td>\n",
       "      <td>0.0</td>\n",
       "      <td>12</td>\n",
       "      <td>-1</td>\n",
       "      <td>0.5</td>\n",
       "      <td>-1</td>\n",
       "      <td>0.0</td>\n",
       "      <td>0.0</td>\n",
       "      <td>0.0</td>\n",
       "      <td>1</td>\n",
       "    </tr>\n",
       "    <tr>\n",
       "      <th>3</th>\n",
       "      <td>4</td>\n",
       "      <td>1</td>\n",
       "      <td>4</td>\n",
       "      <td>5</td>\n",
       "      <td>2</td>\n",
       "      <td>0.0</td>\n",
       "      <td>0.0</td>\n",
       "      <td>0.0</td>\n",
       "      <td>12</td>\n",
       "      <td>-1</td>\n",
       "      <td>0.5</td>\n",
       "      <td>-1</td>\n",
       "      <td>0.0</td>\n",
       "      <td>0.0</td>\n",
       "      <td>0.0</td>\n",
       "      <td>1</td>\n",
       "    </tr>\n",
       "    <tr>\n",
       "      <th>4</th>\n",
       "      <td>5</td>\n",
       "      <td>1</td>\n",
       "      <td>5</td>\n",
       "      <td>6</td>\n",
       "      <td>2</td>\n",
       "      <td>0.0</td>\n",
       "      <td>0.0</td>\n",
       "      <td>0.0</td>\n",
       "      <td>12</td>\n",
       "      <td>-1</td>\n",
       "      <td>0.5</td>\n",
       "      <td>-1</td>\n",
       "      <td>0.0</td>\n",
       "      <td>0.0</td>\n",
       "      <td>0.0</td>\n",
       "      <td>1</td>\n",
       "    </tr>\n",
       "    <tr>\n",
       "      <th>5</th>\n",
       "      <td>6</td>\n",
       "      <td>1</td>\n",
       "      <td>6</td>\n",
       "      <td>7</td>\n",
       "      <td>2</td>\n",
       "      <td>0.0</td>\n",
       "      <td>0.0</td>\n",
       "      <td>0.0</td>\n",
       "      <td>12</td>\n",
       "      <td>-1</td>\n",
       "      <td>0.5</td>\n",
       "      <td>-1</td>\n",
       "      <td>0.0</td>\n",
       "      <td>0.0</td>\n",
       "      <td>0.0</td>\n",
       "      <td>1</td>\n",
       "    </tr>\n",
       "    <tr>\n",
       "      <th>6</th>\n",
       "      <td>7</td>\n",
       "      <td>1</td>\n",
       "      <td>7</td>\n",
       "      <td>8</td>\n",
       "      <td>2</td>\n",
       "      <td>0.0</td>\n",
       "      <td>0.0</td>\n",
       "      <td>0.0</td>\n",
       "      <td>12</td>\n",
       "      <td>-1</td>\n",
       "      <td>0.5</td>\n",
       "      <td>-1</td>\n",
       "      <td>0.0</td>\n",
       "      <td>0.0</td>\n",
       "      <td>0.0</td>\n",
       "      <td>1</td>\n",
       "    </tr>\n",
       "    <tr>\n",
       "      <th>7</th>\n",
       "      <td>8</td>\n",
       "      <td>1</td>\n",
       "      <td>8</td>\n",
       "      <td>9</td>\n",
       "      <td>2</td>\n",
       "      <td>0.0</td>\n",
       "      <td>0.0</td>\n",
       "      <td>0.0</td>\n",
       "      <td>12</td>\n",
       "      <td>-1</td>\n",
       "      <td>0.5</td>\n",
       "      <td>-1</td>\n",
       "      <td>0.0</td>\n",
       "      <td>0.0</td>\n",
       "      <td>0.0</td>\n",
       "      <td>1</td>\n",
       "    </tr>\n",
       "    <tr>\n",
       "      <th>8</th>\n",
       "      <td>9</td>\n",
       "      <td>1</td>\n",
       "      <td>9</td>\n",
       "      <td>10</td>\n",
       "      <td>2</td>\n",
       "      <td>0.0</td>\n",
       "      <td>0.0</td>\n",
       "      <td>0.0</td>\n",
       "      <td>12</td>\n",
       "      <td>-1</td>\n",
       "      <td>0.5</td>\n",
       "      <td>-1</td>\n",
       "      <td>0.0</td>\n",
       "      <td>0.0</td>\n",
       "      <td>0.0</td>\n",
       "      <td>1</td>\n",
       "    </tr>\n",
       "    <tr>\n",
       "      <th>9</th>\n",
       "      <td>10</td>\n",
       "      <td>1</td>\n",
       "      <td>10</td>\n",
       "      <td>11</td>\n",
       "      <td>2</td>\n",
       "      <td>0.0</td>\n",
       "      <td>0.0</td>\n",
       "      <td>0.0</td>\n",
       "      <td>12</td>\n",
       "      <td>-1</td>\n",
       "      <td>0.5</td>\n",
       "      <td>-1</td>\n",
       "      <td>0.0</td>\n",
       "      <td>0.0</td>\n",
       "      <td>0.0</td>\n",
       "      <td>1</td>\n",
       "    </tr>\n",
       "  </tbody>\n",
       "</table>\n",
       "</div>"
      ],
      "text/plain": [
       "   EID  PID  GA  GB  FLAG   X1   X2   X3  GO  CID    S  OCID   S1   S2   S3  \\\n",
       "0    1    1   1   2     2  0.0  0.0  0.0  12   -1  0.5    -1  0.0  0.0  0.0   \n",
       "1    2    1   2   3     2  0.0  0.0  0.0  12   -1  0.5    -1  0.0  0.0  0.0   \n",
       "2    3    1   3   4     2  0.0  0.0  0.0  12   -1  0.5    -1  0.0  0.0  0.0   \n",
       "3    4    1   4   5     2  0.0  0.0  0.0  12   -1  0.5    -1  0.0  0.0  0.0   \n",
       "4    5    1   5   6     2  0.0  0.0  0.0  12   -1  0.5    -1  0.0  0.0  0.0   \n",
       "5    6    1   6   7     2  0.0  0.0  0.0  12   -1  0.5    -1  0.0  0.0  0.0   \n",
       "6    7    1   7   8     2  0.0  0.0  0.0  12   -1  0.5    -1  0.0  0.0  0.0   \n",
       "7    8    1   8   9     2  0.0  0.0  0.0  12   -1  0.5    -1  0.0  0.0  0.0   \n",
       "8    9    1   9  10     2  0.0  0.0  0.0  12   -1  0.5    -1  0.0  0.0  0.0   \n",
       "9   10    1  10  11     2  0.0  0.0  0.0  12   -1  0.5    -1  0.0  0.0  0.0   \n",
       "\n",
       "   DOMAIN_ID  \n",
       "0          1  \n",
       "1          1  \n",
       "2          1  \n",
       "3          1  \n",
       "4          1  \n",
       "5          1  \n",
       "6          1  \n",
       "7          1  \n",
       "8          1  \n",
       "9          1  "
      ]
     },
     "execution_count": 93,
     "metadata": {},
     "output_type": "execute_result"
    }
   ],
   "source": [
    "    df = pd.DataFrame((list(x) for x in dataset), columns=dataset.dtype.fields.keys())\n",
    "    df"
   ]
  },
  {
   "cell_type": "code",
   "execution_count": 99,
   "metadata": {},
   "outputs": [
    {
     "name": "stdout",
     "output_type": "stream",
     "text": [
      "1.0\n",
      "2.0\n",
      "   EID  PID  GA  GB  FLAG   X1   X2   X3  GO  CID    S  OCID   S1   S2   S3  \\\n",
      "2    3    1   3   4     2  0.0  0.0  0.0  12   -1  0.5    -1  0.0  0.0  0.0   \n",
      "3    4    1   4   5     2  0.0  0.0  0.0  12   -1  0.5    -1  0.0  0.0  0.0   \n",
      "4    5    1   5   6     2  0.0  0.0  0.0  12   -1  0.5    -1  0.0  0.0  0.0   \n",
      "\n",
      "   DOMAIN_ID  \n",
      "2          1  \n",
      "3          1  \n",
      "4          1  \n"
     ]
    }
   ],
   "source": [
    "print(df.loc[2].PID)\n",
    "print(df.loc[7].FLAG)\n",
    "print(df.iloc[2:5])"
   ]
  },
  {
   "cell_type": "code",
   "execution_count": null,
   "metadata": {
    "collapsed": true
   },
   "outputs": [],
   "source": []
  }
 ],
 "metadata": {
  "kernelspec": {
   "display_name": "Python 3",
   "language": "python",
   "name": "python3"
  },
  "language_info": {
   "codemirror_mode": {
    "name": "ipython",
    "version": 3
   },
   "file_extension": ".py",
   "mimetype": "text/x-python",
   "name": "python",
   "nbconvert_exporter": "python",
   "pygments_lexer": "ipython3",
   "version": "3.6.2"
  }
 },
 "nbformat": 4,
 "nbformat_minor": 2
}
